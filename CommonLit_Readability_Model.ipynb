{
 "cells": [
  {
   "cell_type": "markdown",
   "metadata": {},
   "source": [
    "# Predicting Readability Amongst Literature for Students Grades 3-12 \n",
    "\n",
    "This notebook builds multiple machine learning models to predict the readability of litature used in schools. "
   ]
  },
  {
   "cell_type": "code",
   "execution_count": 1,
   "metadata": {},
   "outputs": [],
   "source": [
    "import warnings\n",
    "warnings.filterwarnings(action='ignore')"
   ]
  },
  {
   "cell_type": "code",
   "execution_count": 2,
   "metadata": {},
   "outputs": [
    {
     "data": {
      "text/html": [
       "<div>\n",
       "<style scoped>\n",
       "    .dataframe tbody tr th:only-of-type {\n",
       "        vertical-align: middle;\n",
       "    }\n",
       "\n",
       "    .dataframe tbody tr th {\n",
       "        vertical-align: top;\n",
       "    }\n",
       "\n",
       "    .dataframe thead th {\n",
       "        text-align: right;\n",
       "    }\n",
       "</style>\n",
       "<table border=\"1\" class=\"dataframe\">\n",
       "  <thead>\n",
       "    <tr style=\"text-align: right;\">\n",
       "      <th></th>\n",
       "      <th>id</th>\n",
       "      <th>url_legal</th>\n",
       "      <th>license</th>\n",
       "      <th>excerpt</th>\n",
       "      <th>target</th>\n",
       "      <th>standard_error</th>\n",
       "    </tr>\n",
       "  </thead>\n",
       "  <tbody>\n",
       "    <tr>\n",
       "      <th>0</th>\n",
       "      <td>c12129c31</td>\n",
       "      <td>NaN</td>\n",
       "      <td>NaN</td>\n",
       "      <td>When the young people returned to the ballroom...</td>\n",
       "      <td>-0.340259</td>\n",
       "      <td>0.464009</td>\n",
       "    </tr>\n",
       "    <tr>\n",
       "      <th>1</th>\n",
       "      <td>85aa80a4c</td>\n",
       "      <td>NaN</td>\n",
       "      <td>NaN</td>\n",
       "      <td>All through dinner time, Mrs. Fayre was somewh...</td>\n",
       "      <td>-0.315372</td>\n",
       "      <td>0.480805</td>\n",
       "    </tr>\n",
       "    <tr>\n",
       "      <th>2</th>\n",
       "      <td>b69ac6792</td>\n",
       "      <td>NaN</td>\n",
       "      <td>NaN</td>\n",
       "      <td>As Roger had predicted, the snow departed as q...</td>\n",
       "      <td>-0.580118</td>\n",
       "      <td>0.476676</td>\n",
       "    </tr>\n",
       "    <tr>\n",
       "      <th>3</th>\n",
       "      <td>dd1000b26</td>\n",
       "      <td>NaN</td>\n",
       "      <td>NaN</td>\n",
       "      <td>And outside before the palace a great garden w...</td>\n",
       "      <td>-1.054013</td>\n",
       "      <td>0.450007</td>\n",
       "    </tr>\n",
       "    <tr>\n",
       "      <th>4</th>\n",
       "      <td>37c1b32fb</td>\n",
       "      <td>NaN</td>\n",
       "      <td>NaN</td>\n",
       "      <td>Once upon a time there were Three Bears who li...</td>\n",
       "      <td>0.247197</td>\n",
       "      <td>0.510845</td>\n",
       "    </tr>\n",
       "  </tbody>\n",
       "</table>\n",
       "</div>"
      ],
      "text/plain": [
       "          id url_legal license  \\\n",
       "0  c12129c31       NaN     NaN   \n",
       "1  85aa80a4c       NaN     NaN   \n",
       "2  b69ac6792       NaN     NaN   \n",
       "3  dd1000b26       NaN     NaN   \n",
       "4  37c1b32fb       NaN     NaN   \n",
       "\n",
       "                                             excerpt    target  standard_error  \n",
       "0  When the young people returned to the ballroom... -0.340259        0.464009  \n",
       "1  All through dinner time, Mrs. Fayre was somewh... -0.315372        0.480805  \n",
       "2  As Roger had predicted, the snow departed as q... -0.580118        0.476676  \n",
       "3  And outside before the palace a great garden w... -1.054013        0.450007  \n",
       "4  Once upon a time there were Three Bears who li...  0.247197        0.510845  "
      ]
     },
     "execution_count": 2,
     "metadata": {},
     "output_type": "execute_result"
    }
   ],
   "source": [
    "# import and preview data \n",
    "import pandas as pd\n",
    "df = pd.read_csv('/Users/christianmoya/downloads/commonlitreadabilityprize/train.csv')\n",
    "df.head()"
   ]
  },
  {
   "cell_type": "markdown",
   "metadata": {},
   "source": [
    "## Clean and Preprocess Data\n",
    "\n",
    "<b>Removing Null Values</b> \n",
    "Right from the get-go, we find null values in the url_legal and license columns. Because those don't add to the readability target, we'll remove both columns. At the end, I'll work with just the excerpt column and target column for the model. \n",
    "\n",
    "<b>Cleaning Text Data</b> \n",
    "Preparing text data for our models works a bit differently. Below, I tokenize each word, lowercase each capital letter, and remove punctuation marks so that we can properly vectorize our \"excerpt\" column. "
   ]
  },
  {
   "cell_type": "code",
   "execution_count": 3,
   "metadata": {},
   "outputs": [
    {
     "data": {
      "text/html": [
       "<div>\n",
       "<style scoped>\n",
       "    .dataframe tbody tr th:only-of-type {\n",
       "        vertical-align: middle;\n",
       "    }\n",
       "\n",
       "    .dataframe tbody tr th {\n",
       "        vertical-align: top;\n",
       "    }\n",
       "\n",
       "    .dataframe thead th {\n",
       "        text-align: right;\n",
       "    }\n",
       "</style>\n",
       "<table border=\"1\" class=\"dataframe\">\n",
       "  <thead>\n",
       "    <tr style=\"text-align: right;\">\n",
       "      <th></th>\n",
       "      <th>id</th>\n",
       "      <th>url_legal</th>\n",
       "      <th>license</th>\n",
       "      <th>excerpt</th>\n",
       "      <th>target</th>\n",
       "      <th>standard_error</th>\n",
       "      <th>processed_text</th>\n",
       "    </tr>\n",
       "  </thead>\n",
       "  <tbody>\n",
       "    <tr>\n",
       "      <th>0</th>\n",
       "      <td>c12129c31</td>\n",
       "      <td>NaN</td>\n",
       "      <td>NaN</td>\n",
       "      <td>When the young people returned to the ballroom...</td>\n",
       "      <td>-0.340259</td>\n",
       "      <td>0.464009</td>\n",
       "      <td>when the young people returned to the ballroom...</td>\n",
       "    </tr>\n",
       "    <tr>\n",
       "      <th>1</th>\n",
       "      <td>85aa80a4c</td>\n",
       "      <td>NaN</td>\n",
       "      <td>NaN</td>\n",
       "      <td>All through dinner time, Mrs. Fayre was somewh...</td>\n",
       "      <td>-0.315372</td>\n",
       "      <td>0.480805</td>\n",
       "      <td>all through dinner time mrs fayre was somewhat...</td>\n",
       "    </tr>\n",
       "    <tr>\n",
       "      <th>2</th>\n",
       "      <td>b69ac6792</td>\n",
       "      <td>NaN</td>\n",
       "      <td>NaN</td>\n",
       "      <td>As Roger had predicted, the snow departed as q...</td>\n",
       "      <td>-0.580118</td>\n",
       "      <td>0.476676</td>\n",
       "      <td>as roger had predicted the snow departed as qu...</td>\n",
       "    </tr>\n",
       "    <tr>\n",
       "      <th>3</th>\n",
       "      <td>dd1000b26</td>\n",
       "      <td>NaN</td>\n",
       "      <td>NaN</td>\n",
       "      <td>And outside before the palace a great garden w...</td>\n",
       "      <td>-1.054013</td>\n",
       "      <td>0.450007</td>\n",
       "      <td>and outside before the palace a great garden w...</td>\n",
       "    </tr>\n",
       "    <tr>\n",
       "      <th>4</th>\n",
       "      <td>37c1b32fb</td>\n",
       "      <td>NaN</td>\n",
       "      <td>NaN</td>\n",
       "      <td>Once upon a time there were Three Bears who li...</td>\n",
       "      <td>0.247197</td>\n",
       "      <td>0.510845</td>\n",
       "      <td>once upon a time there were three bears who li...</td>\n",
       "    </tr>\n",
       "  </tbody>\n",
       "</table>\n",
       "</div>"
      ],
      "text/plain": [
       "          id url_legal license  \\\n",
       "0  c12129c31       NaN     NaN   \n",
       "1  85aa80a4c       NaN     NaN   \n",
       "2  b69ac6792       NaN     NaN   \n",
       "3  dd1000b26       NaN     NaN   \n",
       "4  37c1b32fb       NaN     NaN   \n",
       "\n",
       "                                             excerpt    target  \\\n",
       "0  When the young people returned to the ballroom... -0.340259   \n",
       "1  All through dinner time, Mrs. Fayre was somewh... -0.315372   \n",
       "2  As Roger had predicted, the snow departed as q... -0.580118   \n",
       "3  And outside before the palace a great garden w... -1.054013   \n",
       "4  Once upon a time there were Three Bears who li...  0.247197   \n",
       "\n",
       "   standard_error                                     processed_text  \n",
       "0        0.464009  when the young people returned to the ballroom...  \n",
       "1        0.480805  all through dinner time mrs fayre was somewhat...  \n",
       "2        0.476676  as roger had predicted the snow departed as qu...  \n",
       "3        0.450007  and outside before the palace a great garden w...  \n",
       "4        0.510845  once upon a time there were three bears who li...  "
      ]
     },
     "execution_count": 3,
     "metadata": {},
     "output_type": "execute_result"
    }
   ],
   "source": [
    "# define target and data\n",
    "data = df['excerpt']\n",
    "target = df['target']\n",
    "\n",
    "# import necessary libraries \n",
    "import re\n",
    "import nltk \n",
    "from nltk.corpus import stopwords \n",
    "import string\n",
    "from nltk import word_tokenize, FreqDist\n",
    "from sklearn.feature_extraction.text import TfidfVectorizer\n",
    "\n",
    "# create list of stop words and punctuation \n",
    "stopwords_list = stopwords.words('english') + list(string.punctuation)\n",
    "stopwords_list += [\"''\", '\"\"', '...', '``']\n",
    "\n",
    "# create function that removes punctuation and stopwords\n",
    "def process_text(text):\n",
    "    text = str(text)\n",
    "    cleaned = re.sub('\\W', ' ', text)\n",
    "    tokens = nltk.word_tokenize(cleaned)\n",
    "    stopwords_removed = [token.lower() for token in tokens if token.lower not in stopwords_list]\n",
    "    joined_words = ' '.join(stopwords_removed)\n",
    "    return joined_words\n",
    "\n",
    "df['processed_text'] = df['excerpt'].apply(process_text)\n",
    "df.head()"
   ]
  },
  {
   "cell_type": "markdown",
   "metadata": {},
   "source": [
    "## Vectorizers: TF-IDF and CountVectorizer\n",
    "\n",
    "Our \"processed text\" column is now ready to be vectorized. I will work two different vectorizers: TF-IDF and CountVectorizer. \n",
    "\n",
    "The <b>TF-IDF</b> Vectorizer calculates the relevance of a word in one document compared to other documents, while the <b>CountVectorizer</b> counts the number of times a word shows up in a document. Relavance may play a larger role when it comes to readability, but we will try both to see. "
   ]
  },
  {
   "cell_type": "markdown",
   "metadata": {},
   "source": [
    "### Baseline Model with TF-IDF Vectorizer"
   ]
  },
  {
   "cell_type": "code",
   "execution_count": 4,
   "metadata": {},
   "outputs": [],
   "source": [
    "# split data into train and test \n",
    "from sklearn.model_selection import train_test_split \n",
    "target = df['target']\n",
    "data = df['processed_text']\n",
    "data_train, data_test, target_train, target_test = train_test_split(data, target, random_state=42)\n",
    "\n",
    "from sklearn.feature_extraction.text import TfidfVectorizer\n",
    "vectorizer = TfidfVectorizer()\n",
    "tfidf_train = vectorizer.fit_transform(data_train)\n",
    "tfidf_test = vectorizer.transform(data_test)"
   ]
  },
  {
   "cell_type": "code",
   "execution_count": 6,
   "metadata": {},
   "outputs": [
    {
     "name": "stdout",
     "output_type": "stream",
     "text": [
      "Linear Regression Model with TF-IDF Vectorizer\n",
      "rmse train score:  0.010861320603191336\n",
      "rmse test score:  0.7392255161334383\n"
     ]
    }
   ],
   "source": [
    "# create function that builds model and prints out RMSE train and test score\n",
    "import math\n",
    "import numpy as np \n",
    "from sklearn.metrics import mean_squared_error \n",
    "from sklearn import linear_model\n",
    "\n",
    "def rmse_score(model, data_train, data_test, target_train, target_test):\n",
    "    \n",
    "    # build model \n",
    "    reg = model\n",
    "    reg.fit(data_train, target_train)\n",
    "    \n",
    "    # make predictions \n",
    "    y_pred_train = reg.predict(data_train)\n",
    "    y_pred_test = reg.predict(data_test)\n",
    "    \n",
    "    # calculate rmse score\n",
    "    mse_train = mean_squared_error(target_train, y_pred_train)\n",
    "    rmse_train = math.sqrt(mse_train)\n",
    "    print('rmse train score: ', rmse_train)\n",
    "    \n",
    "    mse_test = mean_squared_error(target_test, y_pred_test)\n",
    "    rmse_test = math.sqrt(mse_test)\n",
    "    print('rmse test score: ', rmse_test)\n",
    "    \n",
    "\n",
    "print('Linear Regression Model with TF-IDF Vectorizer')\n",
    "rmse_score(linear_model.LinearRegression(), tfidf_train, tfidf_test, target_train, target_test)"
   ]
  },
  {
   "cell_type": "markdown",
   "metadata": {},
   "source": [
    "## Parameter Tuning \n",
    "\n",
    "We see that our model has a huge problem with overfitting since the RMSE score for our training data is much lower that our RMSE score for our testing data. We'll explore more models later but in the meantime, we can also play with the parameters to see which might give us the lowest RMSE score, starting with the max features parameter."
   ]
  },
  {
   "cell_type": "markdown",
   "metadata": {},
   "source": [
    "### Testing tf-idf with Max Features\n",
    "\n",
    "Max Features is one parameter we can tune. Below we're testing for max features between 100 and 10,000. "
   ]
  },
  {
   "cell_type": "code",
   "execution_count": 7,
   "metadata": {},
   "outputs": [
    {
     "data": {
      "image/png": "[encoded data removed]",
      "text/plain": [
       "<Figure size 432x288 with 1 Axes>"
      ]
     },
     "metadata": {
      "needs_background": "light"
     },
     "output_type": "display_data"
    }
   ],
   "source": [
    "import matplotlib.pyplot as plt\n",
    "\n",
    "# create list of RMSE scores \n",
    "rmse_train_scores = []\n",
    "rmse_test_scores = []\n",
    "\n",
    "# create function that tests for different max features \n",
    "def tfidf_maxfeatures(data, target, n):\n",
    "    \n",
    "    #split data into train and test\n",
    "    data_train, data_test, target_train, target_test = train_test_split(data, target, random_state=42)\n",
    "    \n",
    "    # vectorize text data \n",
    "    vectorizer = TfidfVectorizer(max_features = n)\n",
    "    tfidf_train = vectorizer.fit_transform(data_train)\n",
    "    tfidf_test = vectorizer.transform(data_test)\n",
    "    \n",
    "    # fit LinearRegression model \n",
    "    reg = linear_model.LinearRegression()\n",
    "    reg.fit(tfidf_train, target_train)\n",
    "    \n",
    "    # predict target\n",
    "    y_pred_train = reg.predict(tfidf_train)\n",
    "    y_pred_test = reg.predict(tfidf_test)\n",
    "    \n",
    "    # check RMSE score \n",
    "    rme_train = mean_squared_error(y_pred_train, target_train)\n",
    "    rmse_train = math.sqrt(rme_train)\n",
    "    rmse_train_scores.append(rmse_train)\n",
    "    #print('RMSE Train Score with {} Max Features: '.format(n), rmse_train)\n",
    "    \n",
    "    rme_test = mean_squared_error(y_pred_test, target_test)\n",
    "    rmse_test = math.sqrt(rme_test)\n",
    "    rmse_test_scores.append(rmse_test)\n",
    "    #print('RMSE Test Score with {} Max Features: '.format(n), rmse_test)\n",
    "    \n",
    "# plot RMSE scores for different number of max features \n",
    "def plot_maxfeatures(lower, upper, skip):\n",
    "    for n in range(lower,upper,skip):\n",
    "        tfidf_maxfeatures(df['processed_text'], df['target'], n)\n",
    "        \n",
    "    plt.plot(range(lower,upper,skip), rmse_train_scores, label='RMSE Train Scores');\n",
    "    plt.plot(range(lower,upper,skip), rmse_test_scores, label='RMSE Test Scores')\n",
    "    plt.legend()\n",
    "    plt.title('RMSE Scores')\n",
    "    plt.xlabel('Max Features');\n",
    "    \n",
    "plot_maxfeatures(100,10000,100)"
   ]
  },
  {
   "cell_type": "markdown",
   "metadata": {},
   "source": [
    "When our max features is set at 2000, we find that our test scores peak with an RMSE score above 8 and our train scores reach somewhat of an elbow and stabalizes close to 1. We still see that we have a problem with overfitting since the lines never seem to merge. "
   ]
  },
  {
   "cell_type": "markdown",
   "metadata": {},
   "source": [
    "### Test for Unigrams, Bigrams, and Trigrams\n",
    "\n",
    "With our text data, we'll also test to see whether including bigrams and trigrams can help our model. "
   ]
  },
  {
   "cell_type": "code",
   "execution_count": 9,
   "metadata": {},
   "outputs": [
    {
     "name": "stdout",
     "output_type": "stream",
     "text": [
      "Linear Regression Model with TF-IDF unigrams, bigrams, and trigrams\n",
      "rmse train score:  0.010861320603192918\n",
      "rmse test score:  1.0186970489579505\n"
     ]
    }
   ],
   "source": [
    "# test with unigrams, bigrams, and trigrams \n",
    "vectorizer3 = TfidfVectorizer(ngram_range=(1,3), max_features=4000)\n",
    "tfidf_train3 = vectorizer3.fit_transform(data_train)\n",
    "tfidf_test3 = vectorizer3.transform(data_test)\n",
    "\n",
    "print('Linear Regression Model with TF-IDF unigrams, bigrams, and trigrams')\n",
    "rmse_score(linear_model.LinearRegression(), tfidf_train3, tfidf_test3, target_train, target_test)"
   ]
  },
  {
   "cell_type": "markdown",
   "metadata": {},
   "source": [
    "Though the RMSE scores are closer together than our baseline, it looks like we're still overfitting our training data. We'll use a Ridge Regerssion model to help by desensitize our model to the training data."
   ]
  },
  {
   "cell_type": "markdown",
   "metadata": {},
   "source": [
    "## Ridge Regression Model\n",
    "\n",
    "Ridge Regression is another linear model that desensitizes the model to our training data. Hopefully this helps with our overfitting problem. "
   ]
  },
  {
   "cell_type": "code",
   "execution_count": 10,
   "metadata": {},
   "outputs": [
    {
     "name": "stdout",
     "output_type": "stream",
     "text": [
      "Ridge Regression Model with TF-IDF Vectorizer Unigrams, Bigrams, Trigrams\n",
      "rmse train score:  0.2662557445942855\n",
      "rmse test score:  0.7145901182830405\n"
     ]
    }
   ],
   "source": [
    "from sklearn import linear_model \n",
    "vectorizer4 = TfidfVectorizer(ngram_range=(1,3))\n",
    "tfidf_train4 = vectorizer4.fit_transform(data_train)\n",
    "tfidf_test4 = vectorizer4.transform(data_test)\n",
    "\n",
    "print('Ridge Regression Model with TF-IDF Vectorizer Unigrams, Bigrams, Trigrams')\n",
    "rmse_score(linear_model.Ridge(alpha=.5), tfidf_train4, tfidf_test4, target_train, target_test)"
   ]
  },
  {
   "cell_type": "code",
   "execution_count": 11,
   "metadata": {},
   "outputs": [
    {
     "name": "stdout",
     "output_type": "stream",
     "text": [
      "Ridge Regression Model with TF-DF Vectorizer with 50,000 Max Featuers\n",
      "rmse train score:  0.2693671405085464\n",
      "rmse test score:  0.698200648071989\n"
     ]
    }
   ],
   "source": [
    "# test for max features in ridge regression \n",
    "vectorizer5 = TfidfVectorizer(max_features=50000, ngram_range=(1,3))\n",
    "tfidf_train5 = vectorizer5.fit_transform(data_train)\n",
    "tfidf_test5 = vectorizer5.transform(data_test)\n",
    "\n",
    "print('Ridge Regression Model with TF-DF Vectorizer with 50,000 Max Featuers')\n",
    "rmse_score(linear_model.Ridge(alpha=.5), tfidf_train5, tfidf_test5, target_train, target_test)"
   ]
  },
  {
   "cell_type": "markdown",
   "metadata": {},
   "source": [
    "So far, this model holds the lowest RMSE test score of 0.698 compared to our baseline of .739. I'm instantiating a new model below so we can explore its coefficients. "
   ]
  },
  {
   "cell_type": "code",
   "execution_count": 28,
   "metadata": {},
   "outputs": [
    {
     "data": {
      "text/plain": [
       "Ridge(alpha=0.5)"
      ]
     },
     "execution_count": 28,
     "metadata": {},
     "output_type": "execute_result"
    }
   ],
   "source": [
    "reg5 = linear_model.Ridge(alpha=0.5)\n",
    "reg5.fit(tfidf_train5, target_train)"
   ]
  },
  {
   "cell_type": "markdown",
   "metadata": {},
   "source": [
    "## Testing with CountVectorizer\n",
    "\n",
    "So far, we've tested with the TF-IDF vectorizer, and had a clear problem with over-fitting. However, we were able to lower our RMSE score by 5%. This time, we'll test with a CountVectorizer instead to see if it will help with our RMSE score. "
   ]
  },
  {
   "cell_type": "code",
   "execution_count": 12,
   "metadata": {},
   "outputs": [
    {
     "name": "stdout",
     "output_type": "stream",
     "text": [
      "Linear Regression Model with Count Vectorizer\n",
      "rmse train score:  0.010861320603196445\n",
      "rmse test score:  0.8136934148949335\n"
     ]
    }
   ],
   "source": [
    "# baseline CountVectorizer model \n",
    "from sklearn.feature_extraction.text import CountVectorizer\n",
    "\n",
    "cv = CountVectorizer()\n",
    "cv_train = cv.fit_transform(data_train)\n",
    "cv_test = cv.transform(data_test)\n",
    "\n",
    "print('Linear Regression Model with Count Vectorizer')\n",
    "rmse_score(linear_model.LinearRegression(), cv_train, cv_test, target_train, target_test)"
   ]
  },
  {
   "cell_type": "code",
   "execution_count": 13,
   "metadata": {},
   "outputs": [
    {
     "name": "stdout",
     "output_type": "stream",
     "text": [
      "Ridge Regression Model with Count Vectorizer\n",
      "rmse train score:  0.012389617353902855\n",
      "rmse test score:  0.8117343814496976\n"
     ]
    }
   ],
   "source": [
    "# CountVectorizer with Ridge Regression \n",
    "print('Ridge Regression Model with Count Vectorizer')\n",
    "rmse_score(linear_model.Ridge(alpha=0.5), cv_train, cv_test, target_train, target_test)"
   ]
  },
  {
   "cell_type": "markdown",
   "metadata": {},
   "source": [
    "The CountVectorizer doesn't seem to perform any better than the TF-IDF vectorizer. We'll continue trying both for the Random Forest Regression model, but may continue parameter tuning with TF-IDF. "
   ]
  },
  {
   "cell_type": "markdown",
   "metadata": {},
   "source": [
    "### Random Forest Regression Model\n",
    "\n",
    "Let's see if a Random Forest Regression Model will perform higher than the Linear Regression model and the Ridge Regression model."
   ]
  },
  {
   "cell_type": "code",
   "execution_count": 14,
   "metadata": {},
   "outputs": [
    {
     "name": "stdout",
     "output_type": "stream",
     "text": [
      "Count Vectorizer with Random Forest Regression Training RMSE:  0.3048182485135861\n",
      "Count Vectorizer with Random Forest Regression Test RMSE:  0.8128639969723552\n"
     ]
    }
   ],
   "source": [
    "from sklearn.ensemble import RandomForestRegressor\n",
    "\n",
    "model = RandomForestRegressor()\n",
    "model.fit(cv_train, target_train)\n",
    "\n",
    "y_pred_train8 = model.predict(cv_train)\n",
    "y_pred_test8 = model.predict(cv_test)\n",
    "\n",
    "rme_train8 = mean_squared_error(y_pred_train8, target_train)\n",
    "rmse_train8 = math.sqrt(rme_train8)\n",
    "print('Count Vectorizer with Random Forest Regression Training RMSE: ', rmse_train8)\n",
    "\n",
    "rme_test8 = mean_squared_error(y_pred_test8, target_test)\n",
    "rmse_test8 = math.sqrt(rme_test8)\n",
    "print('Count Vectorizer with Random Forest Regression Test RMSE: ', rmse_test8)"
   ]
  },
  {
   "cell_type": "code",
   "execution_count": 15,
   "metadata": {},
   "outputs": [],
   "source": [
    "# create function that tests for different n_estimators \n",
    "def random_forest_regressor(data_train, data_test, target_train, target_test, n):\n",
    "    \n",
    "    # instantiate model \n",
    "    model = RandomForestRegressor(n_estimators=n)\n",
    "    model.fit(data_train, target_train )\n",
    "    \n",
    "    # make predictions \n",
    "    y_pred_train = model.predict(data_train)\n",
    "    y_pred_test = model.predict(data_test)\n",
    "    \n",
    "    # calculate rmse scores \n",
    "    rme_train = mean_squared_error(y_pred_train, target_train)\n",
    "    rmse_train = math.sqrt(rme_train)\n",
    "    \n",
    "    rme_test = mean_squared_error(y_pred_test, target_test)\n",
    "    rmse_test = math.sqrt(rme_test)\n",
    "    \n",
    "    return rmse_train, rmse_test\n",
    "\n",
    "# create list of rmse scores \n",
    "rmse_train_scores = []\n",
    "rmse_test_scores = []\n",
    "\n",
    "for i in range(10,100,10):\n",
    "    rmse_train, rmse_test = random_forest_regressor(cv_train, cv_test, target_train, target_test, i)\n",
    "    rmse_train_scores.append(rmse_train)\n",
    "    rmse_test_scores.append(rmse_test)"
   ]
  },
  {
   "cell_type": "code",
   "execution_count": 16,
   "metadata": {},
   "outputs": [
    {
     "data": {
      "image/png": "[encoded data removed]",
      "text/plain": [
       "<Figure size 432x288 with 1 Axes>"
      ]
     },
     "metadata": {
      "needs_background": "light"
     },
     "output_type": "display_data"
    }
   ],
   "source": [
    "plt.plot(range(10,100,10), rmse_train_scores, label='Training RMSE')\n",
    "plt.plot(range(10,100,10), rmse_test_scores, label='Testing RMSE')\n",
    "plt.legend()\n",
    "plt.title('Random Forest Regression Model with Count Vectorizer');"
   ]
  },
  {
   "cell_type": "markdown",
   "metadata": {},
   "source": [
    "Our Random Forest Regression model doens't seem to beat our Ridge Regression. "
   ]
  },
  {
   "cell_type": "code",
   "execution_count": 18,
   "metadata": {},
   "outputs": [
    {
     "name": "stdout",
     "output_type": "stream",
     "text": [
      "TF-IDF Vectorizer with Random Forest Regression Model\n",
      "rmse train score:  0.30351994306024277\n",
      "rmse test score:  0.8036740080157325\n"
     ]
    }
   ],
   "source": [
    "print('TF-IDF Vectorizer with Random Forest Regression Model')\n",
    "rmse_score(RandomForestRegressor(), tfidf_train5, tfidf_test5, target_train, target_test)"
   ]
  },
  {
   "cell_type": "markdown",
   "metadata": {},
   "source": [
    "### Experiment with GridSearchCV\n",
    "\n",
    "Because RidgeRegression had the best performing RMSE score, we'll do a grid search to see which parameters work best. "
   ]
  },
  {
   "cell_type": "code",
   "execution_count": 21,
   "metadata": {},
   "outputs": [
    {
     "data": {
      "text/html": [
       "<div>\n",
       "<style scoped>\n",
       "    .dataframe tbody tr th:only-of-type {\n",
       "        vertical-align: middle;\n",
       "    }\n",
       "\n",
       "    .dataframe tbody tr th {\n",
       "        vertical-align: top;\n",
       "    }\n",
       "\n",
       "    .dataframe thead th {\n",
       "        text-align: right;\n",
       "    }\n",
       "</style>\n",
       "<table border=\"1\" class=\"dataframe\">\n",
       "  <thead>\n",
       "    <tr style=\"text-align: right;\">\n",
       "      <th></th>\n",
       "      <th>mean_fit_time</th>\n",
       "      <th>std_fit_time</th>\n",
       "      <th>mean_score_time</th>\n",
       "      <th>std_score_time</th>\n",
       "      <th>param_alpha</th>\n",
       "      <th>param_normalize</th>\n",
       "      <th>param_solver</th>\n",
       "      <th>params</th>\n",
       "      <th>split0_test_score</th>\n",
       "      <th>split1_test_score</th>\n",
       "      <th>split2_test_score</th>\n",
       "      <th>split3_test_score</th>\n",
       "      <th>split4_test_score</th>\n",
       "      <th>mean_test_score</th>\n",
       "      <th>std_test_score</th>\n",
       "      <th>rank_test_score</th>\n",
       "    </tr>\n",
       "  </thead>\n",
       "  <tbody>\n",
       "    <tr>\n",
       "      <th>0</th>\n",
       "      <td>0.035230</td>\n",
       "      <td>0.006360</td>\n",
       "      <td>0.000689</td>\n",
       "      <td>0.000162</td>\n",
       "      <td>1</td>\n",
       "      <td>True</td>\n",
       "      <td>auto</td>\n",
       "      <td>{'alpha': 1, 'normalize': True, 'solver': 'auto'}</td>\n",
       "      <td>-0.765700</td>\n",
       "      <td>-0.741329</td>\n",
       "      <td>-0.800775</td>\n",
       "      <td>-0.731963</td>\n",
       "      <td>-0.764206</td>\n",
       "      <td>-0.760794</td>\n",
       "      <td>0.023851</td>\n",
       "      <td>4</td>\n",
       "    </tr>\n",
       "    <tr>\n",
       "      <th>1</th>\n",
       "      <td>0.163348</td>\n",
       "      <td>0.039011</td>\n",
       "      <td>0.000741</td>\n",
       "      <td>0.000019</td>\n",
       "      <td>1</td>\n",
       "      <td>True</td>\n",
       "      <td>sag</td>\n",
       "      <td>{'alpha': 1, 'normalize': True, 'solver': 'sag'}</td>\n",
       "      <td>-0.976906</td>\n",
       "      <td>-0.923511</td>\n",
       "      <td>-0.976019</td>\n",
       "      <td>-0.874292</td>\n",
       "      <td>-0.935100</td>\n",
       "      <td>-0.937166</td>\n",
       "      <td>0.038033</td>\n",
       "      <td>11</td>\n",
       "    </tr>\n",
       "    <tr>\n",
       "      <th>2</th>\n",
       "      <td>0.030789</td>\n",
       "      <td>0.000912</td>\n",
       "      <td>0.000627</td>\n",
       "      <td>0.000060</td>\n",
       "      <td>1</td>\n",
       "      <td>True</td>\n",
       "      <td>sparse_cg</td>\n",
       "      <td>{'alpha': 1, 'normalize': True, 'solver': 'spa...</td>\n",
       "      <td>-0.765700</td>\n",
       "      <td>-0.741329</td>\n",
       "      <td>-0.800775</td>\n",
       "      <td>-0.731963</td>\n",
       "      <td>-0.764206</td>\n",
       "      <td>-0.760794</td>\n",
       "      <td>0.023851</td>\n",
       "      <td>4</td>\n",
       "    </tr>\n",
       "    <tr>\n",
       "      <th>3</th>\n",
       "      <td>0.025218</td>\n",
       "      <td>0.002154</td>\n",
       "      <td>0.000612</td>\n",
       "      <td>0.000026</td>\n",
       "      <td>1</td>\n",
       "      <td>False</td>\n",
       "      <td>auto</td>\n",
       "      <td>{'alpha': 1, 'normalize': False, 'solver': 'au...</td>\n",
       "      <td>-0.744768</td>\n",
       "      <td>-0.715074</td>\n",
       "      <td>-0.800368</td>\n",
       "      <td>-0.716109</td>\n",
       "      <td>-0.743105</td>\n",
       "      <td>-0.743885</td>\n",
       "      <td>0.030962</td>\n",
       "      <td>1</td>\n",
       "    </tr>\n",
       "    <tr>\n",
       "      <th>4</th>\n",
       "      <td>0.096041</td>\n",
       "      <td>0.003959</td>\n",
       "      <td>0.000747</td>\n",
       "      <td>0.000032</td>\n",
       "      <td>1</td>\n",
       "      <td>False</td>\n",
       "      <td>sag</td>\n",
       "      <td>{'alpha': 1, 'normalize': False, 'solver': 'sag'}</td>\n",
       "      <td>-0.744833</td>\n",
       "      <td>-0.715222</td>\n",
       "      <td>-0.800364</td>\n",
       "      <td>-0.716201</td>\n",
       "      <td>-0.743188</td>\n",
       "      <td>-0.743962</td>\n",
       "      <td>0.030917</td>\n",
       "      <td>3</td>\n",
       "    </tr>\n",
       "    <tr>\n",
       "      <th>5</th>\n",
       "      <td>0.021417</td>\n",
       "      <td>0.000431</td>\n",
       "      <td>0.000611</td>\n",
       "      <td>0.000026</td>\n",
       "      <td>1</td>\n",
       "      <td>False</td>\n",
       "      <td>sparse_cg</td>\n",
       "      <td>{'alpha': 1, 'normalize': False, 'solver': 'sp...</td>\n",
       "      <td>-0.744768</td>\n",
       "      <td>-0.715074</td>\n",
       "      <td>-0.800368</td>\n",
       "      <td>-0.716109</td>\n",
       "      <td>-0.743105</td>\n",
       "      <td>-0.743885</td>\n",
       "      <td>0.030962</td>\n",
       "      <td>1</td>\n",
       "    </tr>\n",
       "    <tr>\n",
       "      <th>6</th>\n",
       "      <td>0.026062</td>\n",
       "      <td>0.001983</td>\n",
       "      <td>0.000661</td>\n",
       "      <td>0.000074</td>\n",
       "      <td>2</td>\n",
       "      <td>True</td>\n",
       "      <td>auto</td>\n",
       "      <td>{'alpha': 2, 'normalize': True, 'solver': 'auto'}</td>\n",
       "      <td>-0.767703</td>\n",
       "      <td>-0.742777</td>\n",
       "      <td>-0.802560</td>\n",
       "      <td>-0.732519</td>\n",
       "      <td>-0.765659</td>\n",
       "      <td>-0.762244</td>\n",
       "      <td>0.024205</td>\n",
       "      <td>6</td>\n",
       "    </tr>\n",
       "    <tr>\n",
       "      <th>7</th>\n",
       "      <td>0.172137</td>\n",
       "      <td>0.050622</td>\n",
       "      <td>0.000733</td>\n",
       "      <td>0.000101</td>\n",
       "      <td>2</td>\n",
       "      <td>True</td>\n",
       "      <td>sag</td>\n",
       "      <td>{'alpha': 2, 'normalize': True, 'solver': 'sag'}</td>\n",
       "      <td>-0.978720</td>\n",
       "      <td>-0.925137</td>\n",
       "      <td>-0.977626</td>\n",
       "      <td>-0.875768</td>\n",
       "      <td>-0.936808</td>\n",
       "      <td>-0.938812</td>\n",
       "      <td>0.038118</td>\n",
       "      <td>12</td>\n",
       "    </tr>\n",
       "    <tr>\n",
       "      <th>8</th>\n",
       "      <td>0.029717</td>\n",
       "      <td>0.001921</td>\n",
       "      <td>0.000701</td>\n",
       "      <td>0.000093</td>\n",
       "      <td>2</td>\n",
       "      <td>True</td>\n",
       "      <td>sparse_cg</td>\n",
       "      <td>{'alpha': 2, 'normalize': True, 'solver': 'spa...</td>\n",
       "      <td>-0.767703</td>\n",
       "      <td>-0.742777</td>\n",
       "      <td>-0.802560</td>\n",
       "      <td>-0.732519</td>\n",
       "      <td>-0.765659</td>\n",
       "      <td>-0.762244</td>\n",
       "      <td>0.024205</td>\n",
       "      <td>6</td>\n",
       "    </tr>\n",
       "    <tr>\n",
       "      <th>9</th>\n",
       "      <td>0.020869</td>\n",
       "      <td>0.000765</td>\n",
       "      <td>0.000627</td>\n",
       "      <td>0.000074</td>\n",
       "      <td>2</td>\n",
       "      <td>False</td>\n",
       "      <td>auto</td>\n",
       "      <td>{'alpha': 2, 'normalize': False, 'solver': 'au...</td>\n",
       "      <td>-0.773801</td>\n",
       "      <td>-0.741109</td>\n",
       "      <td>-0.823595</td>\n",
       "      <td>-0.737651</td>\n",
       "      <td>-0.767367</td>\n",
       "      <td>-0.768705</td>\n",
       "      <td>0.030876</td>\n",
       "      <td>8</td>\n",
       "    </tr>\n",
       "    <tr>\n",
       "      <th>10</th>\n",
       "      <td>0.078502</td>\n",
       "      <td>0.002200</td>\n",
       "      <td>0.000735</td>\n",
       "      <td>0.000014</td>\n",
       "      <td>2</td>\n",
       "      <td>False</td>\n",
       "      <td>sag</td>\n",
       "      <td>{'alpha': 2, 'normalize': False, 'solver': 'sag'}</td>\n",
       "      <td>-0.773841</td>\n",
       "      <td>-0.741158</td>\n",
       "      <td>-0.823612</td>\n",
       "      <td>-0.737641</td>\n",
       "      <td>-0.767380</td>\n",
       "      <td>-0.768727</td>\n",
       "      <td>0.030876</td>\n",
       "      <td>10</td>\n",
       "    </tr>\n",
       "    <tr>\n",
       "      <th>11</th>\n",
       "      <td>0.019111</td>\n",
       "      <td>0.000387</td>\n",
       "      <td>0.000631</td>\n",
       "      <td>0.000034</td>\n",
       "      <td>2</td>\n",
       "      <td>False</td>\n",
       "      <td>sparse_cg</td>\n",
       "      <td>{'alpha': 2, 'normalize': False, 'solver': 'sp...</td>\n",
       "      <td>-0.773801</td>\n",
       "      <td>-0.741109</td>\n",
       "      <td>-0.823595</td>\n",
       "      <td>-0.737651</td>\n",
       "      <td>-0.767367</td>\n",
       "      <td>-0.768705</td>\n",
       "      <td>0.030876</td>\n",
       "      <td>8</td>\n",
       "    </tr>\n",
       "  </tbody>\n",
       "</table>\n",
       "</div>"
      ],
      "text/plain": [
       "    mean_fit_time  std_fit_time  mean_score_time  std_score_time param_alpha  \\\n",
       "0        0.035230      0.006360         0.000689        0.000162           1   \n",
       "1        0.163348      0.039011         0.000741        0.000019           1   \n",
       "2        0.030789      0.000912         0.000627        0.000060           1   \n",
       "3        0.025218      0.002154         0.000612        0.000026           1   \n",
       "4        0.096041      0.003959         0.000747        0.000032           1   \n",
       "5        0.021417      0.000431         0.000611        0.000026           1   \n",
       "6        0.026062      0.001983         0.000661        0.000074           2   \n",
       "7        0.172137      0.050622         0.000733        0.000101           2   \n",
       "8        0.029717      0.001921         0.000701        0.000093           2   \n",
       "9        0.020869      0.000765         0.000627        0.000074           2   \n",
       "10       0.078502      0.002200         0.000735        0.000014           2   \n",
       "11       0.019111      0.000387         0.000631        0.000034           2   \n",
       "\n",
       "   param_normalize param_solver  \\\n",
       "0             True         auto   \n",
       "1             True          sag   \n",
       "2             True    sparse_cg   \n",
       "3            False         auto   \n",
       "4            False          sag   \n",
       "5            False    sparse_cg   \n",
       "6             True         auto   \n",
       "7             True          sag   \n",
       "8             True    sparse_cg   \n",
       "9            False         auto   \n",
       "10           False          sag   \n",
       "11           False    sparse_cg   \n",
       "\n",
       "                                               params  split0_test_score  \\\n",
       "0   {'alpha': 1, 'normalize': True, 'solver': 'auto'}          -0.765700   \n",
       "1    {'alpha': 1, 'normalize': True, 'solver': 'sag'}          -0.976906   \n",
       "2   {'alpha': 1, 'normalize': True, 'solver': 'spa...          -0.765700   \n",
       "3   {'alpha': 1, 'normalize': False, 'solver': 'au...          -0.744768   \n",
       "4   {'alpha': 1, 'normalize': False, 'solver': 'sag'}          -0.744833   \n",
       "5   {'alpha': 1, 'normalize': False, 'solver': 'sp...          -0.744768   \n",
       "6   {'alpha': 2, 'normalize': True, 'solver': 'auto'}          -0.767703   \n",
       "7    {'alpha': 2, 'normalize': True, 'solver': 'sag'}          -0.978720   \n",
       "8   {'alpha': 2, 'normalize': True, 'solver': 'spa...          -0.767703   \n",
       "9   {'alpha': 2, 'normalize': False, 'solver': 'au...          -0.773801   \n",
       "10  {'alpha': 2, 'normalize': False, 'solver': 'sag'}          -0.773841   \n",
       "11  {'alpha': 2, 'normalize': False, 'solver': 'sp...          -0.773801   \n",
       "\n",
       "    split1_test_score  split2_test_score  split3_test_score  \\\n",
       "0           -0.741329          -0.800775          -0.731963   \n",
       "1           -0.923511          -0.976019          -0.874292   \n",
       "2           -0.741329          -0.800775          -0.731963   \n",
       "3           -0.715074          -0.800368          -0.716109   \n",
       "4           -0.715222          -0.800364          -0.716201   \n",
       "5           -0.715074          -0.800368          -0.716109   \n",
       "6           -0.742777          -0.802560          -0.732519   \n",
       "7           -0.925137          -0.977626          -0.875768   \n",
       "8           -0.742777          -0.802560          -0.732519   \n",
       "9           -0.741109          -0.823595          -0.737651   \n",
       "10          -0.741158          -0.823612          -0.737641   \n",
       "11          -0.741109          -0.823595          -0.737651   \n",
       "\n",
       "    split4_test_score  mean_test_score  std_test_score  rank_test_score  \n",
       "0           -0.764206        -0.760794        0.023851                4  \n",
       "1           -0.935100        -0.937166        0.038033               11  \n",
       "2           -0.764206        -0.760794        0.023851                4  \n",
       "3           -0.743105        -0.743885        0.030962                1  \n",
       "4           -0.743188        -0.743962        0.030917                3  \n",
       "5           -0.743105        -0.743885        0.030962                1  \n",
       "6           -0.765659        -0.762244        0.024205                6  \n",
       "7           -0.936808        -0.938812        0.038118               12  \n",
       "8           -0.765659        -0.762244        0.024205                6  \n",
       "9           -0.767367        -0.768705        0.030876                8  \n",
       "10          -0.767380        -0.768727        0.030876               10  \n",
       "11          -0.767367        -0.768705        0.030876                8  "
      ]
     },
     "execution_count": 21,
     "metadata": {},
     "output_type": "execute_result"
    }
   ],
   "source": [
    "from sklearn.model_selection import GridSearchCV\n",
    "parameters = {'solver':['auto', 'sag', 'sparse_cg'], 'alpha':[1,2], 'normalize':[True,False]}\n",
    "reg9 = linear_model.Ridge()\n",
    "gs = GridSearchCV(reg9, parameters, scoring='neg_root_mean_squared_error')\n",
    "gs.fit(tfidf_train5, target_train)\n",
    "pd.DataFrame(gs.cv_results_)"
   ]
  },
  {
   "cell_type": "code",
   "execution_count": 22,
   "metadata": {},
   "outputs": [
    {
     "name": "stdout",
     "output_type": "stream",
     "text": [
      "TF-IDF Vectorizer with Ridge Regression and Best Parameters Based on GridSearch\n",
      "rmse train score:  0.3935140122416576\n",
      "rmse test score:  0.7062878513705304\n"
     ]
    }
   ],
   "source": [
    "print('TF-IDF Vectorizer with Ridge Regression and Best Parameters Based on GridSearch')\n",
    "rmse_score(linear_model.Ridge(alpha=1, normalize=False, solver='sparse_cg'), tfidf_train5, tfidf_test5, target_train, target_test)"
   ]
  },
  {
   "cell_type": "markdown",
   "metadata": {},
   "source": [
    "### Explore Feature Importance \n",
    "\n",
    "Ridge Regression Model with a TF-IDF vectorizer with 50,000 had the lowest rmse, so we'll explore that model for feature importance. "
   ]
  },
  {
   "cell_type": "code",
   "execution_count": 30,
   "metadata": {},
   "outputs": [
    {
     "data": {
      "text/html": [
       "<div>\n",
       "<style scoped>\n",
       "    .dataframe tbody tr th:only-of-type {\n",
       "        vertical-align: middle;\n",
       "    }\n",
       "\n",
       "    .dataframe tbody tr th {\n",
       "        vertical-align: top;\n",
       "    }\n",
       "\n",
       "    .dataframe thead th {\n",
       "        text-align: right;\n",
       "    }\n",
       "</style>\n",
       "<table border=\"1\" class=\"dataframe\">\n",
       "  <thead>\n",
       "    <tr style=\"text-align: right;\">\n",
       "      <th></th>\n",
       "      <th>coef</th>\n",
       "      <th>term</th>\n",
       "    </tr>\n",
       "  </thead>\n",
       "  <tbody>\n",
       "    <tr>\n",
       "      <th>26596</th>\n",
       "      <td>-3.585168</td>\n",
       "      <td>of</td>\n",
       "    </tr>\n",
       "    <tr>\n",
       "      <th>3939</th>\n",
       "      <td>-1.756629</td>\n",
       "      <td>as</td>\n",
       "    </tr>\n",
       "    <tr>\n",
       "      <th>19058</th>\n",
       "      <td>-1.655534</td>\n",
       "      <td>in</td>\n",
       "    </tr>\n",
       "    <tr>\n",
       "      <th>37643</th>\n",
       "      <td>-1.548362</td>\n",
       "      <td>the</td>\n",
       "    </tr>\n",
       "    <tr>\n",
       "      <th>48784</th>\n",
       "      <td>-1.424915</td>\n",
       "      <td>with</td>\n",
       "    </tr>\n",
       "  </tbody>\n",
       "</table>\n",
       "</div>"
      ],
      "text/plain": [
       "           coef  term\n",
       "26596 -3.585168    of\n",
       "3939  -1.756629    as\n",
       "19058 -1.655534    in\n",
       "37643 -1.548362   the\n",
       "48784 -1.424915  with"
      ]
     },
     "execution_count": 30,
     "metadata": {},
     "output_type": "execute_result"
    }
   ],
   "source": [
    "term_coef = pd.DataFrame(zip(reg5.coef_, vectorizer5.get_feature_names()), columns=['coef', 'term'])\n",
    "sorted_df = term_coef.sort_values(by=['coef'])\n",
    "sorted_df.head()"
   ]
  },
  {
   "cell_type": "code",
   "execution_count": 31,
   "metadata": {},
   "outputs": [
    {
     "data": {
      "image/png": "[encoded data removed]",
      "text/plain": [
       "<Figure size 864x576 with 1 Axes>"
      ]
     },
     "metadata": {
      "needs_background": "light"
     },
     "output_type": "display_data"
    }
   ],
   "source": [
    "import seaborn as sns \n",
    "plt.subplots(figsize=[12,8])\n",
    "sns.barplot(x='coef', y='term', data=sorted_df.head(15), palette='hot')\n",
    "plt.title('Terms with Most Negative Impact on Readability', fontsize=16);"
   ]
  },
  {
   "cell_type": "code",
   "execution_count": 32,
   "metadata": {
    "scrolled": true
   },
   "outputs": [
    {
     "data": {
      "image/png": "[encoded data removed]",
      "text/plain": [
       "<Figure size 864x576 with 1 Axes>"
      ]
     },
     "metadata": {
      "needs_background": "light"
     },
     "output_type": "display_data"
    }
   ],
   "source": [
    "plt.subplots(figsize=[12,8])\n",
    "sns.barplot(x='coef', y='term', data=sorted_df.tail(15), palette='gist_earth_r')\n",
    "plt.title('Terms with Most Positive Impact on Readability', fontsize=15);"
   ]
  },
  {
   "cell_type": "markdown",
   "metadata": {},
   "source": [
    "## Conclusion \n",
    "\n",
    "After iterating with 2 vectorizers, 3 regression models and a grid search, our lowest RMSE score came out to .698 using the TF-IDF vectorizer and a Ridge Regression Model, a score 5% lower than our baseline. When we explore feature importance, we find words like \"you\", \"mother\", and \"lived\" increase the readability score. In contrast, prepositional words like \"of\", \"as\", and \"in\" decreased the readability score. The results tell me that easier texts are told like stories, and more difficult texts have more prepositional words, so the language is not as direct. "
   ]
  }
 ],
 "metadata": {
  "kernelspec": {
   "display_name": "Python 3",
   "language": "python",
   "name": "python3"
  },
  "language_info": {
   "codemirror_mode": {
    "name": "ipython",
    "version": 3
   },
   "file_extension": ".py",
   "mimetype": "text/x-python",
   "name": "python",
   "nbconvert_exporter": "python",
   "pygments_lexer": "ipython3",
   "version": "3.8.3"
  }
 },
 "nbformat": 4,
 "nbformat_minor": 4
}
